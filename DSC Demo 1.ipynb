{
 "cells": [
  {
   "cell_type": "code",
   "execution_count": null,
   "metadata": {},
   "outputs": [],
   "source": [
    "# !pip install pycaret"
   ]
  },
  {
   "cell_type": "code",
   "execution_count": null,
   "metadata": {},
   "outputs": [],
   "source": [
    "# !pip install pycaret[full] "
   ]
  },
  {
   "cell_type": "code",
   "execution_count": 1,
   "metadata": {},
   "outputs": [
    {
     "data": {
      "text/plain": [
       "'2.3.0'"
      ]
     },
     "execution_count": 1,
     "metadata": {},
     "output_type": "execute_result"
    }
   ],
   "source": [
    "from pycaret.utils import version\n",
    "version()"
   ]
  },
  {
   "cell_type": "code",
   "execution_count": 2,
   "metadata": {
    "scrolled": false
   },
   "outputs": [
    {
     "data": {
      "text/html": [
       "<div>\n",
       "<style scoped>\n",
       "    .dataframe tbody tr th:only-of-type {\n",
       "        vertical-align: middle;\n",
       "    }\n",
       "\n",
       "    .dataframe tbody tr th {\n",
       "        vertical-align: top;\n",
       "    }\n",
       "\n",
       "    .dataframe thead th {\n",
       "        text-align: right;\n",
       "    }\n",
       "</style>\n",
       "<table border=\"1\" class=\"dataframe\">\n",
       "  <thead>\n",
       "    <tr style=\"text-align: right;\">\n",
       "      <th></th>\n",
       "      <th>Id</th>\n",
       "      <th>Purchase</th>\n",
       "      <th>WeekofPurchase</th>\n",
       "      <th>StoreID</th>\n",
       "      <th>PriceCH</th>\n",
       "      <th>PriceMM</th>\n",
       "      <th>DiscCH</th>\n",
       "      <th>DiscMM</th>\n",
       "      <th>SpecialCH</th>\n",
       "      <th>SpecialMM</th>\n",
       "      <th>LoyalCH</th>\n",
       "      <th>SalePriceMM</th>\n",
       "      <th>SalePriceCH</th>\n",
       "      <th>PriceDiff</th>\n",
       "      <th>Store7</th>\n",
       "      <th>PctDiscMM</th>\n",
       "      <th>PctDiscCH</th>\n",
       "      <th>ListPriceDiff</th>\n",
       "      <th>STORE</th>\n",
       "    </tr>\n",
       "  </thead>\n",
       "  <tbody>\n",
       "    <tr>\n",
       "      <th>0</th>\n",
       "      <td>1</td>\n",
       "      <td>CH</td>\n",
       "      <td>237</td>\n",
       "      <td>1</td>\n",
       "      <td>1.75</td>\n",
       "      <td>1.99</td>\n",
       "      <td>0.00</td>\n",
       "      <td>0.0</td>\n",
       "      <td>0</td>\n",
       "      <td>0</td>\n",
       "      <td>0.500000</td>\n",
       "      <td>1.99</td>\n",
       "      <td>1.75</td>\n",
       "      <td>0.24</td>\n",
       "      <td>No</td>\n",
       "      <td>0.000000</td>\n",
       "      <td>0.000000</td>\n",
       "      <td>0.24</td>\n",
       "      <td>1</td>\n",
       "    </tr>\n",
       "    <tr>\n",
       "      <th>1</th>\n",
       "      <td>2</td>\n",
       "      <td>CH</td>\n",
       "      <td>239</td>\n",
       "      <td>1</td>\n",
       "      <td>1.75</td>\n",
       "      <td>1.99</td>\n",
       "      <td>0.00</td>\n",
       "      <td>0.3</td>\n",
       "      <td>0</td>\n",
       "      <td>1</td>\n",
       "      <td>0.600000</td>\n",
       "      <td>1.69</td>\n",
       "      <td>1.75</td>\n",
       "      <td>-0.06</td>\n",
       "      <td>No</td>\n",
       "      <td>0.150754</td>\n",
       "      <td>0.000000</td>\n",
       "      <td>0.24</td>\n",
       "      <td>1</td>\n",
       "    </tr>\n",
       "    <tr>\n",
       "      <th>2</th>\n",
       "      <td>3</td>\n",
       "      <td>CH</td>\n",
       "      <td>245</td>\n",
       "      <td>1</td>\n",
       "      <td>1.86</td>\n",
       "      <td>2.09</td>\n",
       "      <td>0.17</td>\n",
       "      <td>0.0</td>\n",
       "      <td>0</td>\n",
       "      <td>0</td>\n",
       "      <td>0.680000</td>\n",
       "      <td>2.09</td>\n",
       "      <td>1.69</td>\n",
       "      <td>0.40</td>\n",
       "      <td>No</td>\n",
       "      <td>0.000000</td>\n",
       "      <td>0.091398</td>\n",
       "      <td>0.23</td>\n",
       "      <td>1</td>\n",
       "    </tr>\n",
       "    <tr>\n",
       "      <th>3</th>\n",
       "      <td>4</td>\n",
       "      <td>MM</td>\n",
       "      <td>227</td>\n",
       "      <td>1</td>\n",
       "      <td>1.69</td>\n",
       "      <td>1.69</td>\n",
       "      <td>0.00</td>\n",
       "      <td>0.0</td>\n",
       "      <td>0</td>\n",
       "      <td>0</td>\n",
       "      <td>0.400000</td>\n",
       "      <td>1.69</td>\n",
       "      <td>1.69</td>\n",
       "      <td>0.00</td>\n",
       "      <td>No</td>\n",
       "      <td>0.000000</td>\n",
       "      <td>0.000000</td>\n",
       "      <td>0.00</td>\n",
       "      <td>1</td>\n",
       "    </tr>\n",
       "    <tr>\n",
       "      <th>4</th>\n",
       "      <td>5</td>\n",
       "      <td>CH</td>\n",
       "      <td>228</td>\n",
       "      <td>7</td>\n",
       "      <td>1.69</td>\n",
       "      <td>1.69</td>\n",
       "      <td>0.00</td>\n",
       "      <td>0.0</td>\n",
       "      <td>0</td>\n",
       "      <td>0</td>\n",
       "      <td>0.956535</td>\n",
       "      <td>1.69</td>\n",
       "      <td>1.69</td>\n",
       "      <td>0.00</td>\n",
       "      <td>Yes</td>\n",
       "      <td>0.000000</td>\n",
       "      <td>0.000000</td>\n",
       "      <td>0.00</td>\n",
       "      <td>0</td>\n",
       "    </tr>\n",
       "  </tbody>\n",
       "</table>\n",
       "</div>"
      ],
      "text/plain": [
       "   Id Purchase  WeekofPurchase  StoreID  PriceCH  PriceMM  DiscCH  DiscMM  \\\n",
       "0   1       CH             237        1     1.75     1.99    0.00     0.0   \n",
       "1   2       CH             239        1     1.75     1.99    0.00     0.3   \n",
       "2   3       CH             245        1     1.86     2.09    0.17     0.0   \n",
       "3   4       MM             227        1     1.69     1.69    0.00     0.0   \n",
       "4   5       CH             228        7     1.69     1.69    0.00     0.0   \n",
       "\n",
       "   SpecialCH  SpecialMM   LoyalCH  SalePriceMM  SalePriceCH  PriceDiff Store7  \\\n",
       "0          0          0  0.500000         1.99         1.75       0.24     No   \n",
       "1          0          1  0.600000         1.69         1.75      -0.06     No   \n",
       "2          0          0  0.680000         2.09         1.69       0.40     No   \n",
       "3          0          0  0.400000         1.69         1.69       0.00     No   \n",
       "4          0          0  0.956535         1.69         1.69       0.00    Yes   \n",
       "\n",
       "   PctDiscMM  PctDiscCH  ListPriceDiff  STORE  \n",
       "0   0.000000   0.000000           0.24      1  \n",
       "1   0.150754   0.000000           0.24      1  \n",
       "2   0.000000   0.091398           0.23      1  \n",
       "3   0.000000   0.000000           0.00      1  \n",
       "4   0.000000   0.000000           0.00      0  "
      ]
     },
     "metadata": {},
     "output_type": "display_data"
    }
   ],
   "source": [
    "from pycaret.datasets import get_data\n",
    "data = get_data('juice')"
   ]
  },
  {
   "cell_type": "code",
   "execution_count": 3,
   "metadata": {},
   "outputs": [
    {
     "data": {
      "text/plain": [
       "Id                  int64\n",
       "Purchase           object\n",
       "WeekofPurchase      int64\n",
       "StoreID             int64\n",
       "PriceCH           float64\n",
       "PriceMM           float64\n",
       "DiscCH            float64\n",
       "DiscMM            float64\n",
       "SpecialCH           int64\n",
       "SpecialMM           int64\n",
       "LoyalCH           float64\n",
       "SalePriceMM       float64\n",
       "SalePriceCH       float64\n",
       "PriceDiff         float64\n",
       "Store7             object\n",
       "PctDiscMM         float64\n",
       "PctDiscCH         float64\n",
       "ListPriceDiff     float64\n",
       "STORE               int64\n",
       "dtype: object"
      ]
     },
     "execution_count": 3,
     "metadata": {},
     "output_type": "execute_result"
    }
   ],
   "source": [
    "data.dtypes"
   ]
  },
  {
   "cell_type": "code",
   "execution_count": 4,
   "metadata": {},
   "outputs": [
    {
     "data": {
      "text/plain": [
       "CH    653\n",
       "MM    417\n",
       "Name: Purchase, dtype: int64"
      ]
     },
     "execution_count": 4,
     "metadata": {},
     "output_type": "execute_result"
    }
   ],
   "source": [
    "data['Purchase'].value_counts()"
   ]
  },
  {
   "cell_type": "code",
   "execution_count": 5,
   "metadata": {},
   "outputs": [
    {
     "data": {
      "text/html": [
       "<style  type=\"text/css\" >\n",
       "#T_6a894908_9e31_11eb_9762_482ae32b83darow19_col1{\n",
       "            background-color:  lightgreen;\n",
       "        }</style><table id=\"T_6a894908_9e31_11eb_9762_482ae32b83da\" ><thead>    <tr>        <th class=\"blank level0\" ></th>        <th class=\"col_heading level0 col0\" >Description</th>        <th class=\"col_heading level0 col1\" >Value</th>    </tr></thead><tbody>\n",
       "                <tr>\n",
       "                        <th id=\"T_6a894908_9e31_11eb_9762_482ae32b83dalevel0_row0\" class=\"row_heading level0 row0\" >0</th>\n",
       "                        <td id=\"T_6a894908_9e31_11eb_9762_482ae32b83darow0_col0\" class=\"data row0 col0\" >session_id</td>\n",
       "                        <td id=\"T_6a894908_9e31_11eb_9762_482ae32b83darow0_col1\" class=\"data row0 col1\" >8572</td>\n",
       "            </tr>\n",
       "            <tr>\n",
       "                        <th id=\"T_6a894908_9e31_11eb_9762_482ae32b83dalevel0_row1\" class=\"row_heading level0 row1\" >1</th>\n",
       "                        <td id=\"T_6a894908_9e31_11eb_9762_482ae32b83darow1_col0\" class=\"data row1 col0\" >Target</td>\n",
       "                        <td id=\"T_6a894908_9e31_11eb_9762_482ae32b83darow1_col1\" class=\"data row1 col1\" >Purchase</td>\n",
       "            </tr>\n",
       "            <tr>\n",
       "                        <th id=\"T_6a894908_9e31_11eb_9762_482ae32b83dalevel0_row2\" class=\"row_heading level0 row2\" >2</th>\n",
       "                        <td id=\"T_6a894908_9e31_11eb_9762_482ae32b83darow2_col0\" class=\"data row2 col0\" >Target Type</td>\n",
       "                        <td id=\"T_6a894908_9e31_11eb_9762_482ae32b83darow2_col1\" class=\"data row2 col1\" >Binary</td>\n",
       "            </tr>\n",
       "            <tr>\n",
       "                        <th id=\"T_6a894908_9e31_11eb_9762_482ae32b83dalevel0_row3\" class=\"row_heading level0 row3\" >3</th>\n",
       "                        <td id=\"T_6a894908_9e31_11eb_9762_482ae32b83darow3_col0\" class=\"data row3 col0\" >Label Encoded</td>\n",
       "                        <td id=\"T_6a894908_9e31_11eb_9762_482ae32b83darow3_col1\" class=\"data row3 col1\" >CH: 0, MM: 1</td>\n",
       "            </tr>\n",
       "            <tr>\n",
       "                        <th id=\"T_6a894908_9e31_11eb_9762_482ae32b83dalevel0_row4\" class=\"row_heading level0 row4\" >4</th>\n",
       "                        <td id=\"T_6a894908_9e31_11eb_9762_482ae32b83darow4_col0\" class=\"data row4 col0\" >Original Data</td>\n",
       "                        <td id=\"T_6a894908_9e31_11eb_9762_482ae32b83darow4_col1\" class=\"data row4 col1\" >(1070, 19)</td>\n",
       "            </tr>\n",
       "            <tr>\n",
       "                        <th id=\"T_6a894908_9e31_11eb_9762_482ae32b83dalevel0_row5\" class=\"row_heading level0 row5\" >5</th>\n",
       "                        <td id=\"T_6a894908_9e31_11eb_9762_482ae32b83darow5_col0\" class=\"data row5 col0\" >Missing Values</td>\n",
       "                        <td id=\"T_6a894908_9e31_11eb_9762_482ae32b83darow5_col1\" class=\"data row5 col1\" >False</td>\n",
       "            </tr>\n",
       "            <tr>\n",
       "                        <th id=\"T_6a894908_9e31_11eb_9762_482ae32b83dalevel0_row6\" class=\"row_heading level0 row6\" >6</th>\n",
       "                        <td id=\"T_6a894908_9e31_11eb_9762_482ae32b83darow6_col0\" class=\"data row6 col0\" >Numeric Features</td>\n",
       "                        <td id=\"T_6a894908_9e31_11eb_9762_482ae32b83darow6_col1\" class=\"data row6 col1\" >13</td>\n",
       "            </tr>\n",
       "            <tr>\n",
       "                        <th id=\"T_6a894908_9e31_11eb_9762_482ae32b83dalevel0_row7\" class=\"row_heading level0 row7\" >7</th>\n",
       "                        <td id=\"T_6a894908_9e31_11eb_9762_482ae32b83darow7_col0\" class=\"data row7 col0\" >Categorical Features</td>\n",
       "                        <td id=\"T_6a894908_9e31_11eb_9762_482ae32b83darow7_col1\" class=\"data row7 col1\" >5</td>\n",
       "            </tr>\n",
       "            <tr>\n",
       "                        <th id=\"T_6a894908_9e31_11eb_9762_482ae32b83dalevel0_row8\" class=\"row_heading level0 row8\" >8</th>\n",
       "                        <td id=\"T_6a894908_9e31_11eb_9762_482ae32b83darow8_col0\" class=\"data row8 col0\" >Ordinal Features</td>\n",
       "                        <td id=\"T_6a894908_9e31_11eb_9762_482ae32b83darow8_col1\" class=\"data row8 col1\" >False</td>\n",
       "            </tr>\n",
       "            <tr>\n",
       "                        <th id=\"T_6a894908_9e31_11eb_9762_482ae32b83dalevel0_row9\" class=\"row_heading level0 row9\" >9</th>\n",
       "                        <td id=\"T_6a894908_9e31_11eb_9762_482ae32b83darow9_col0\" class=\"data row9 col0\" >High Cardinality Features</td>\n",
       "                        <td id=\"T_6a894908_9e31_11eb_9762_482ae32b83darow9_col1\" class=\"data row9 col1\" >False</td>\n",
       "            </tr>\n",
       "            <tr>\n",
       "                        <th id=\"T_6a894908_9e31_11eb_9762_482ae32b83dalevel0_row10\" class=\"row_heading level0 row10\" >10</th>\n",
       "                        <td id=\"T_6a894908_9e31_11eb_9762_482ae32b83darow10_col0\" class=\"data row10 col0\" >High Cardinality Method</td>\n",
       "                        <td id=\"T_6a894908_9e31_11eb_9762_482ae32b83darow10_col1\" class=\"data row10 col1\" >None</td>\n",
       "            </tr>\n",
       "            <tr>\n",
       "                        <th id=\"T_6a894908_9e31_11eb_9762_482ae32b83dalevel0_row11\" class=\"row_heading level0 row11\" >11</th>\n",
       "                        <td id=\"T_6a894908_9e31_11eb_9762_482ae32b83darow11_col0\" class=\"data row11 col0\" >Transformed Train Set</td>\n",
       "                        <td id=\"T_6a894908_9e31_11eb_9762_482ae32b83darow11_col1\" class=\"data row11 col1\" >(748, 16)</td>\n",
       "            </tr>\n",
       "            <tr>\n",
       "                        <th id=\"T_6a894908_9e31_11eb_9762_482ae32b83dalevel0_row12\" class=\"row_heading level0 row12\" >12</th>\n",
       "                        <td id=\"T_6a894908_9e31_11eb_9762_482ae32b83darow12_col0\" class=\"data row12 col0\" >Transformed Test Set</td>\n",
       "                        <td id=\"T_6a894908_9e31_11eb_9762_482ae32b83darow12_col1\" class=\"data row12 col1\" >(322, 16)</td>\n",
       "            </tr>\n",
       "            <tr>\n",
       "                        <th id=\"T_6a894908_9e31_11eb_9762_482ae32b83dalevel0_row13\" class=\"row_heading level0 row13\" >13</th>\n",
       "                        <td id=\"T_6a894908_9e31_11eb_9762_482ae32b83darow13_col0\" class=\"data row13 col0\" >Shuffle Train-Test</td>\n",
       "                        <td id=\"T_6a894908_9e31_11eb_9762_482ae32b83darow13_col1\" class=\"data row13 col1\" >True</td>\n",
       "            </tr>\n",
       "            <tr>\n",
       "                        <th id=\"T_6a894908_9e31_11eb_9762_482ae32b83dalevel0_row14\" class=\"row_heading level0 row14\" >14</th>\n",
       "                        <td id=\"T_6a894908_9e31_11eb_9762_482ae32b83darow14_col0\" class=\"data row14 col0\" >Stratify Train-Test</td>\n",
       "                        <td id=\"T_6a894908_9e31_11eb_9762_482ae32b83darow14_col1\" class=\"data row14 col1\" >False</td>\n",
       "            </tr>\n",
       "            <tr>\n",
       "                        <th id=\"T_6a894908_9e31_11eb_9762_482ae32b83dalevel0_row15\" class=\"row_heading level0 row15\" >15</th>\n",
       "                        <td id=\"T_6a894908_9e31_11eb_9762_482ae32b83darow15_col0\" class=\"data row15 col0\" >Fold Generator</td>\n",
       "                        <td id=\"T_6a894908_9e31_11eb_9762_482ae32b83darow15_col1\" class=\"data row15 col1\" >StratifiedKFold</td>\n",
       "            </tr>\n",
       "            <tr>\n",
       "                        <th id=\"T_6a894908_9e31_11eb_9762_482ae32b83dalevel0_row16\" class=\"row_heading level0 row16\" >16</th>\n",
       "                        <td id=\"T_6a894908_9e31_11eb_9762_482ae32b83darow16_col0\" class=\"data row16 col0\" >Fold Number</td>\n",
       "                        <td id=\"T_6a894908_9e31_11eb_9762_482ae32b83darow16_col1\" class=\"data row16 col1\" >3</td>\n",
       "            </tr>\n",
       "            <tr>\n",
       "                        <th id=\"T_6a894908_9e31_11eb_9762_482ae32b83dalevel0_row17\" class=\"row_heading level0 row17\" >17</th>\n",
       "                        <td id=\"T_6a894908_9e31_11eb_9762_482ae32b83darow17_col0\" class=\"data row17 col0\" >CPU Jobs</td>\n",
       "                        <td id=\"T_6a894908_9e31_11eb_9762_482ae32b83darow17_col1\" class=\"data row17 col1\" >-1</td>\n",
       "            </tr>\n",
       "            <tr>\n",
       "                        <th id=\"T_6a894908_9e31_11eb_9762_482ae32b83dalevel0_row18\" class=\"row_heading level0 row18\" >18</th>\n",
       "                        <td id=\"T_6a894908_9e31_11eb_9762_482ae32b83darow18_col0\" class=\"data row18 col0\" >Use GPU</td>\n",
       "                        <td id=\"T_6a894908_9e31_11eb_9762_482ae32b83darow18_col1\" class=\"data row18 col1\" >False</td>\n",
       "            </tr>\n",
       "            <tr>\n",
       "                        <th id=\"T_6a894908_9e31_11eb_9762_482ae32b83dalevel0_row19\" class=\"row_heading level0 row19\" >19</th>\n",
       "                        <td id=\"T_6a894908_9e31_11eb_9762_482ae32b83darow19_col0\" class=\"data row19 col0\" >Log Experiment</td>\n",
       "                        <td id=\"T_6a894908_9e31_11eb_9762_482ae32b83darow19_col1\" class=\"data row19 col1\" >True</td>\n",
       "            </tr>\n",
       "            <tr>\n",
       "                        <th id=\"T_6a894908_9e31_11eb_9762_482ae32b83dalevel0_row20\" class=\"row_heading level0 row20\" >20</th>\n",
       "                        <td id=\"T_6a894908_9e31_11eb_9762_482ae32b83darow20_col0\" class=\"data row20 col0\" >Experiment Name</td>\n",
       "                        <td id=\"T_6a894908_9e31_11eb_9762_482ae32b83darow20_col1\" class=\"data row20 col1\" >dsc1</td>\n",
       "            </tr>\n",
       "            <tr>\n",
       "                        <th id=\"T_6a894908_9e31_11eb_9762_482ae32b83dalevel0_row21\" class=\"row_heading level0 row21\" >21</th>\n",
       "                        <td id=\"T_6a894908_9e31_11eb_9762_482ae32b83darow21_col0\" class=\"data row21 col0\" >USI</td>\n",
       "                        <td id=\"T_6a894908_9e31_11eb_9762_482ae32b83darow21_col1\" class=\"data row21 col1\" >dedd</td>\n",
       "            </tr>\n",
       "            <tr>\n",
       "                        <th id=\"T_6a894908_9e31_11eb_9762_482ae32b83dalevel0_row22\" class=\"row_heading level0 row22\" >22</th>\n",
       "                        <td id=\"T_6a894908_9e31_11eb_9762_482ae32b83darow22_col0\" class=\"data row22 col0\" >Imputation Type</td>\n",
       "                        <td id=\"T_6a894908_9e31_11eb_9762_482ae32b83darow22_col1\" class=\"data row22 col1\" >simple</td>\n",
       "            </tr>\n",
       "            <tr>\n",
       "                        <th id=\"T_6a894908_9e31_11eb_9762_482ae32b83dalevel0_row23\" class=\"row_heading level0 row23\" >23</th>\n",
       "                        <td id=\"T_6a894908_9e31_11eb_9762_482ae32b83darow23_col0\" class=\"data row23 col0\" >Iterative Imputation Iteration</td>\n",
       "                        <td id=\"T_6a894908_9e31_11eb_9762_482ae32b83darow23_col1\" class=\"data row23 col1\" >None</td>\n",
       "            </tr>\n",
       "            <tr>\n",
       "                        <th id=\"T_6a894908_9e31_11eb_9762_482ae32b83dalevel0_row24\" class=\"row_heading level0 row24\" >24</th>\n",
       "                        <td id=\"T_6a894908_9e31_11eb_9762_482ae32b83darow24_col0\" class=\"data row24 col0\" >Numeric Imputer</td>\n",
       "                        <td id=\"T_6a894908_9e31_11eb_9762_482ae32b83darow24_col1\" class=\"data row24 col1\" >mean</td>\n",
       "            </tr>\n",
       "            <tr>\n",
       "                        <th id=\"T_6a894908_9e31_11eb_9762_482ae32b83dalevel0_row25\" class=\"row_heading level0 row25\" >25</th>\n",
       "                        <td id=\"T_6a894908_9e31_11eb_9762_482ae32b83darow25_col0\" class=\"data row25 col0\" >Iterative Imputation Numeric Model</td>\n",
       "                        <td id=\"T_6a894908_9e31_11eb_9762_482ae32b83darow25_col1\" class=\"data row25 col1\" >None</td>\n",
       "            </tr>\n",
       "            <tr>\n",
       "                        <th id=\"T_6a894908_9e31_11eb_9762_482ae32b83dalevel0_row26\" class=\"row_heading level0 row26\" >26</th>\n",
       "                        <td id=\"T_6a894908_9e31_11eb_9762_482ae32b83darow26_col0\" class=\"data row26 col0\" >Categorical Imputer</td>\n",
       "                        <td id=\"T_6a894908_9e31_11eb_9762_482ae32b83darow26_col1\" class=\"data row26 col1\" >constant</td>\n",
       "            </tr>\n",
       "            <tr>\n",
       "                        <th id=\"T_6a894908_9e31_11eb_9762_482ae32b83dalevel0_row27\" class=\"row_heading level0 row27\" >27</th>\n",
       "                        <td id=\"T_6a894908_9e31_11eb_9762_482ae32b83darow27_col0\" class=\"data row27 col0\" >Iterative Imputation Categorical Model</td>\n",
       "                        <td id=\"T_6a894908_9e31_11eb_9762_482ae32b83darow27_col1\" class=\"data row27 col1\" >None</td>\n",
       "            </tr>\n",
       "            <tr>\n",
       "                        <th id=\"T_6a894908_9e31_11eb_9762_482ae32b83dalevel0_row28\" class=\"row_heading level0 row28\" >28</th>\n",
       "                        <td id=\"T_6a894908_9e31_11eb_9762_482ae32b83darow28_col0\" class=\"data row28 col0\" >Unknown Categoricals Handling</td>\n",
       "                        <td id=\"T_6a894908_9e31_11eb_9762_482ae32b83darow28_col1\" class=\"data row28 col1\" >least_frequent</td>\n",
       "            </tr>\n",
       "            <tr>\n",
       "                        <th id=\"T_6a894908_9e31_11eb_9762_482ae32b83dalevel0_row29\" class=\"row_heading level0 row29\" >29</th>\n",
       "                        <td id=\"T_6a894908_9e31_11eb_9762_482ae32b83darow29_col0\" class=\"data row29 col0\" >Normalize</td>\n",
       "                        <td id=\"T_6a894908_9e31_11eb_9762_482ae32b83darow29_col1\" class=\"data row29 col1\" >False</td>\n",
       "            </tr>\n",
       "            <tr>\n",
       "                        <th id=\"T_6a894908_9e31_11eb_9762_482ae32b83dalevel0_row30\" class=\"row_heading level0 row30\" >30</th>\n",
       "                        <td id=\"T_6a894908_9e31_11eb_9762_482ae32b83darow30_col0\" class=\"data row30 col0\" >Normalize Method</td>\n",
       "                        <td id=\"T_6a894908_9e31_11eb_9762_482ae32b83darow30_col1\" class=\"data row30 col1\" >None</td>\n",
       "            </tr>\n",
       "            <tr>\n",
       "                        <th id=\"T_6a894908_9e31_11eb_9762_482ae32b83dalevel0_row31\" class=\"row_heading level0 row31\" >31</th>\n",
       "                        <td id=\"T_6a894908_9e31_11eb_9762_482ae32b83darow31_col0\" class=\"data row31 col0\" >Transformation</td>\n",
       "                        <td id=\"T_6a894908_9e31_11eb_9762_482ae32b83darow31_col1\" class=\"data row31 col1\" >False</td>\n",
       "            </tr>\n",
       "            <tr>\n",
       "                        <th id=\"T_6a894908_9e31_11eb_9762_482ae32b83dalevel0_row32\" class=\"row_heading level0 row32\" >32</th>\n",
       "                        <td id=\"T_6a894908_9e31_11eb_9762_482ae32b83darow32_col0\" class=\"data row32 col0\" >Transformation Method</td>\n",
       "                        <td id=\"T_6a894908_9e31_11eb_9762_482ae32b83darow32_col1\" class=\"data row32 col1\" >None</td>\n",
       "            </tr>\n",
       "            <tr>\n",
       "                        <th id=\"T_6a894908_9e31_11eb_9762_482ae32b83dalevel0_row33\" class=\"row_heading level0 row33\" >33</th>\n",
       "                        <td id=\"T_6a894908_9e31_11eb_9762_482ae32b83darow33_col0\" class=\"data row33 col0\" >PCA</td>\n",
       "                        <td id=\"T_6a894908_9e31_11eb_9762_482ae32b83darow33_col1\" class=\"data row33 col1\" >False</td>\n",
       "            </tr>\n",
       "            <tr>\n",
       "                        <th id=\"T_6a894908_9e31_11eb_9762_482ae32b83dalevel0_row34\" class=\"row_heading level0 row34\" >34</th>\n",
       "                        <td id=\"T_6a894908_9e31_11eb_9762_482ae32b83darow34_col0\" class=\"data row34 col0\" >PCA Method</td>\n",
       "                        <td id=\"T_6a894908_9e31_11eb_9762_482ae32b83darow34_col1\" class=\"data row34 col1\" >None</td>\n",
       "            </tr>\n",
       "            <tr>\n",
       "                        <th id=\"T_6a894908_9e31_11eb_9762_482ae32b83dalevel0_row35\" class=\"row_heading level0 row35\" >35</th>\n",
       "                        <td id=\"T_6a894908_9e31_11eb_9762_482ae32b83darow35_col0\" class=\"data row35 col0\" >PCA Components</td>\n",
       "                        <td id=\"T_6a894908_9e31_11eb_9762_482ae32b83darow35_col1\" class=\"data row35 col1\" >None</td>\n",
       "            </tr>\n",
       "            <tr>\n",
       "                        <th id=\"T_6a894908_9e31_11eb_9762_482ae32b83dalevel0_row36\" class=\"row_heading level0 row36\" >36</th>\n",
       "                        <td id=\"T_6a894908_9e31_11eb_9762_482ae32b83darow36_col0\" class=\"data row36 col0\" >Ignore Low Variance</td>\n",
       "                        <td id=\"T_6a894908_9e31_11eb_9762_482ae32b83darow36_col1\" class=\"data row36 col1\" >False</td>\n",
       "            </tr>\n",
       "            <tr>\n",
       "                        <th id=\"T_6a894908_9e31_11eb_9762_482ae32b83dalevel0_row37\" class=\"row_heading level0 row37\" >37</th>\n",
       "                        <td id=\"T_6a894908_9e31_11eb_9762_482ae32b83darow37_col0\" class=\"data row37 col0\" >Combine Rare Levels</td>\n",
       "                        <td id=\"T_6a894908_9e31_11eb_9762_482ae32b83darow37_col1\" class=\"data row37 col1\" >False</td>\n",
       "            </tr>\n",
       "            <tr>\n",
       "                        <th id=\"T_6a894908_9e31_11eb_9762_482ae32b83dalevel0_row38\" class=\"row_heading level0 row38\" >38</th>\n",
       "                        <td id=\"T_6a894908_9e31_11eb_9762_482ae32b83darow38_col0\" class=\"data row38 col0\" >Rare Level Threshold</td>\n",
       "                        <td id=\"T_6a894908_9e31_11eb_9762_482ae32b83darow38_col1\" class=\"data row38 col1\" >None</td>\n",
       "            </tr>\n",
       "            <tr>\n",
       "                        <th id=\"T_6a894908_9e31_11eb_9762_482ae32b83dalevel0_row39\" class=\"row_heading level0 row39\" >39</th>\n",
       "                        <td id=\"T_6a894908_9e31_11eb_9762_482ae32b83darow39_col0\" class=\"data row39 col0\" >Numeric Binning</td>\n",
       "                        <td id=\"T_6a894908_9e31_11eb_9762_482ae32b83darow39_col1\" class=\"data row39 col1\" >False</td>\n",
       "            </tr>\n",
       "            <tr>\n",
       "                        <th id=\"T_6a894908_9e31_11eb_9762_482ae32b83dalevel0_row40\" class=\"row_heading level0 row40\" >40</th>\n",
       "                        <td id=\"T_6a894908_9e31_11eb_9762_482ae32b83darow40_col0\" class=\"data row40 col0\" >Remove Outliers</td>\n",
       "                        <td id=\"T_6a894908_9e31_11eb_9762_482ae32b83darow40_col1\" class=\"data row40 col1\" >False</td>\n",
       "            </tr>\n",
       "            <tr>\n",
       "                        <th id=\"T_6a894908_9e31_11eb_9762_482ae32b83dalevel0_row41\" class=\"row_heading level0 row41\" >41</th>\n",
       "                        <td id=\"T_6a894908_9e31_11eb_9762_482ae32b83darow41_col0\" class=\"data row41 col0\" >Outliers Threshold</td>\n",
       "                        <td id=\"T_6a894908_9e31_11eb_9762_482ae32b83darow41_col1\" class=\"data row41 col1\" >None</td>\n",
       "            </tr>\n",
       "            <tr>\n",
       "                        <th id=\"T_6a894908_9e31_11eb_9762_482ae32b83dalevel0_row42\" class=\"row_heading level0 row42\" >42</th>\n",
       "                        <td id=\"T_6a894908_9e31_11eb_9762_482ae32b83darow42_col0\" class=\"data row42 col0\" >Remove Multicollinearity</td>\n",
       "                        <td id=\"T_6a894908_9e31_11eb_9762_482ae32b83darow42_col1\" class=\"data row42 col1\" >False</td>\n",
       "            </tr>\n",
       "            <tr>\n",
       "                        <th id=\"T_6a894908_9e31_11eb_9762_482ae32b83dalevel0_row43\" class=\"row_heading level0 row43\" >43</th>\n",
       "                        <td id=\"T_6a894908_9e31_11eb_9762_482ae32b83darow43_col0\" class=\"data row43 col0\" >Multicollinearity Threshold</td>\n",
       "                        <td id=\"T_6a894908_9e31_11eb_9762_482ae32b83darow43_col1\" class=\"data row43 col1\" >None</td>\n",
       "            </tr>\n",
       "            <tr>\n",
       "                        <th id=\"T_6a894908_9e31_11eb_9762_482ae32b83dalevel0_row44\" class=\"row_heading level0 row44\" >44</th>\n",
       "                        <td id=\"T_6a894908_9e31_11eb_9762_482ae32b83darow44_col0\" class=\"data row44 col0\" >Clustering</td>\n",
       "                        <td id=\"T_6a894908_9e31_11eb_9762_482ae32b83darow44_col1\" class=\"data row44 col1\" >False</td>\n",
       "            </tr>\n",
       "            <tr>\n",
       "                        <th id=\"T_6a894908_9e31_11eb_9762_482ae32b83dalevel0_row45\" class=\"row_heading level0 row45\" >45</th>\n",
       "                        <td id=\"T_6a894908_9e31_11eb_9762_482ae32b83darow45_col0\" class=\"data row45 col0\" >Clustering Iteration</td>\n",
       "                        <td id=\"T_6a894908_9e31_11eb_9762_482ae32b83darow45_col1\" class=\"data row45 col1\" >None</td>\n",
       "            </tr>\n",
       "            <tr>\n",
       "                        <th id=\"T_6a894908_9e31_11eb_9762_482ae32b83dalevel0_row46\" class=\"row_heading level0 row46\" >46</th>\n",
       "                        <td id=\"T_6a894908_9e31_11eb_9762_482ae32b83darow46_col0\" class=\"data row46 col0\" >Polynomial Features</td>\n",
       "                        <td id=\"T_6a894908_9e31_11eb_9762_482ae32b83darow46_col1\" class=\"data row46 col1\" >False</td>\n",
       "            </tr>\n",
       "            <tr>\n",
       "                        <th id=\"T_6a894908_9e31_11eb_9762_482ae32b83dalevel0_row47\" class=\"row_heading level0 row47\" >47</th>\n",
       "                        <td id=\"T_6a894908_9e31_11eb_9762_482ae32b83darow47_col0\" class=\"data row47 col0\" >Polynomial Degree</td>\n",
       "                        <td id=\"T_6a894908_9e31_11eb_9762_482ae32b83darow47_col1\" class=\"data row47 col1\" >None</td>\n",
       "            </tr>\n",
       "            <tr>\n",
       "                        <th id=\"T_6a894908_9e31_11eb_9762_482ae32b83dalevel0_row48\" class=\"row_heading level0 row48\" >48</th>\n",
       "                        <td id=\"T_6a894908_9e31_11eb_9762_482ae32b83darow48_col0\" class=\"data row48 col0\" >Trignometry Features</td>\n",
       "                        <td id=\"T_6a894908_9e31_11eb_9762_482ae32b83darow48_col1\" class=\"data row48 col1\" >False</td>\n",
       "            </tr>\n",
       "            <tr>\n",
       "                        <th id=\"T_6a894908_9e31_11eb_9762_482ae32b83dalevel0_row49\" class=\"row_heading level0 row49\" >49</th>\n",
       "                        <td id=\"T_6a894908_9e31_11eb_9762_482ae32b83darow49_col0\" class=\"data row49 col0\" >Polynomial Threshold</td>\n",
       "                        <td id=\"T_6a894908_9e31_11eb_9762_482ae32b83darow49_col1\" class=\"data row49 col1\" >None</td>\n",
       "            </tr>\n",
       "            <tr>\n",
       "                        <th id=\"T_6a894908_9e31_11eb_9762_482ae32b83dalevel0_row50\" class=\"row_heading level0 row50\" >50</th>\n",
       "                        <td id=\"T_6a894908_9e31_11eb_9762_482ae32b83darow50_col0\" class=\"data row50 col0\" >Group Features</td>\n",
       "                        <td id=\"T_6a894908_9e31_11eb_9762_482ae32b83darow50_col1\" class=\"data row50 col1\" >False</td>\n",
       "            </tr>\n",
       "            <tr>\n",
       "                        <th id=\"T_6a894908_9e31_11eb_9762_482ae32b83dalevel0_row51\" class=\"row_heading level0 row51\" >51</th>\n",
       "                        <td id=\"T_6a894908_9e31_11eb_9762_482ae32b83darow51_col0\" class=\"data row51 col0\" >Feature Selection</td>\n",
       "                        <td id=\"T_6a894908_9e31_11eb_9762_482ae32b83darow51_col1\" class=\"data row51 col1\" >False</td>\n",
       "            </tr>\n",
       "            <tr>\n",
       "                        <th id=\"T_6a894908_9e31_11eb_9762_482ae32b83dalevel0_row52\" class=\"row_heading level0 row52\" >52</th>\n",
       "                        <td id=\"T_6a894908_9e31_11eb_9762_482ae32b83darow52_col0\" class=\"data row52 col0\" >Feature Selection Method</td>\n",
       "                        <td id=\"T_6a894908_9e31_11eb_9762_482ae32b83darow52_col1\" class=\"data row52 col1\" >classic</td>\n",
       "            </tr>\n",
       "            <tr>\n",
       "                        <th id=\"T_6a894908_9e31_11eb_9762_482ae32b83dalevel0_row53\" class=\"row_heading level0 row53\" >53</th>\n",
       "                        <td id=\"T_6a894908_9e31_11eb_9762_482ae32b83darow53_col0\" class=\"data row53 col0\" >Features Selection Threshold</td>\n",
       "                        <td id=\"T_6a894908_9e31_11eb_9762_482ae32b83darow53_col1\" class=\"data row53 col1\" >None</td>\n",
       "            </tr>\n",
       "            <tr>\n",
       "                        <th id=\"T_6a894908_9e31_11eb_9762_482ae32b83dalevel0_row54\" class=\"row_heading level0 row54\" >54</th>\n",
       "                        <td id=\"T_6a894908_9e31_11eb_9762_482ae32b83darow54_col0\" class=\"data row54 col0\" >Feature Interaction</td>\n",
       "                        <td id=\"T_6a894908_9e31_11eb_9762_482ae32b83darow54_col1\" class=\"data row54 col1\" >False</td>\n",
       "            </tr>\n",
       "            <tr>\n",
       "                        <th id=\"T_6a894908_9e31_11eb_9762_482ae32b83dalevel0_row55\" class=\"row_heading level0 row55\" >55</th>\n",
       "                        <td id=\"T_6a894908_9e31_11eb_9762_482ae32b83darow55_col0\" class=\"data row55 col0\" >Feature Ratio</td>\n",
       "                        <td id=\"T_6a894908_9e31_11eb_9762_482ae32b83darow55_col1\" class=\"data row55 col1\" >False</td>\n",
       "            </tr>\n",
       "            <tr>\n",
       "                        <th id=\"T_6a894908_9e31_11eb_9762_482ae32b83dalevel0_row56\" class=\"row_heading level0 row56\" >56</th>\n",
       "                        <td id=\"T_6a894908_9e31_11eb_9762_482ae32b83darow56_col0\" class=\"data row56 col0\" >Interaction Threshold</td>\n",
       "                        <td id=\"T_6a894908_9e31_11eb_9762_482ae32b83darow56_col1\" class=\"data row56 col1\" >None</td>\n",
       "            </tr>\n",
       "            <tr>\n",
       "                        <th id=\"T_6a894908_9e31_11eb_9762_482ae32b83dalevel0_row57\" class=\"row_heading level0 row57\" >57</th>\n",
       "                        <td id=\"T_6a894908_9e31_11eb_9762_482ae32b83darow57_col0\" class=\"data row57 col0\" >Fix Imbalance</td>\n",
       "                        <td id=\"T_6a894908_9e31_11eb_9762_482ae32b83darow57_col1\" class=\"data row57 col1\" >False</td>\n",
       "            </tr>\n",
       "            <tr>\n",
       "                        <th id=\"T_6a894908_9e31_11eb_9762_482ae32b83dalevel0_row58\" class=\"row_heading level0 row58\" >58</th>\n",
       "                        <td id=\"T_6a894908_9e31_11eb_9762_482ae32b83darow58_col0\" class=\"data row58 col0\" >Fix Imbalance Method</td>\n",
       "                        <td id=\"T_6a894908_9e31_11eb_9762_482ae32b83darow58_col1\" class=\"data row58 col1\" >SMOTE</td>\n",
       "            </tr>\n",
       "    </tbody></table>"
      ],
      "text/plain": [
       "<pandas.io.formats.style.Styler at 0x24ba3c16e48>"
      ]
     },
     "metadata": {},
     "output_type": "display_data"
    },
    {
     "name": "stderr",
     "output_type": "stream",
     "text": [
      "2021/04/15 17:27:44 WARNING mlflow.tracking.context.git_context: Failed to import Git (the Git executable is probably not on your PATH), so Git SHA is not available. Error: No module named 'repository'\n"
     ]
    }
   ],
   "source": [
    "from pycaret.classification import *\n",
    "s = setup(data, target = 'Purchase', log_experiment = True, experiment_name = 'dsc1',\n",
    "          fold = 3)"
   ]
  },
  {
   "cell_type": "code",
   "execution_count": 6,
   "metadata": {},
   "outputs": [
    {
     "data": {
      "text/html": [
       "<style  type=\"text/css\" >\n",
       "#T_74a2010a_9e31_11eb_a912_482ae32b83darow3_col0,#T_74a2010a_9e31_11eb_a912_482ae32b83darow3_col1,#T_74a2010a_9e31_11eb_a912_482ae32b83darow3_col2,#T_74a2010a_9e31_11eb_a912_482ae32b83darow3_col3,#T_74a2010a_9e31_11eb_a912_482ae32b83darow3_col4,#T_74a2010a_9e31_11eb_a912_482ae32b83darow3_col5,#T_74a2010a_9e31_11eb_a912_482ae32b83darow3_col6{\n",
       "            background:  yellow;\n",
       "        }</style><table id=\"T_74a2010a_9e31_11eb_a912_482ae32b83da\" ><thead>    <tr>        <th class=\"blank level0\" ></th>        <th class=\"col_heading level0 col0\" >Accuracy</th>        <th class=\"col_heading level0 col1\" >AUC</th>        <th class=\"col_heading level0 col2\" >Recall</th>        <th class=\"col_heading level0 col3\" >Prec.</th>        <th class=\"col_heading level0 col4\" >F1</th>        <th class=\"col_heading level0 col5\" >Kappa</th>        <th class=\"col_heading level0 col6\" >MCC</th>    </tr></thead><tbody>\n",
       "                <tr>\n",
       "                        <th id=\"T_74a2010a_9e31_11eb_a912_482ae32b83dalevel0_row0\" class=\"row_heading level0 row0\" >0</th>\n",
       "                        <td id=\"T_74a2010a_9e31_11eb_a912_482ae32b83darow0_col0\" class=\"data row0 col0\" >0.7920</td>\n",
       "                        <td id=\"T_74a2010a_9e31_11eb_a912_482ae32b83darow0_col1\" class=\"data row0 col1\" >0.8746</td>\n",
       "                        <td id=\"T_74a2010a_9e31_11eb_a912_482ae32b83darow0_col2\" class=\"data row0 col2\" >0.6809</td>\n",
       "                        <td id=\"T_74a2010a_9e31_11eb_a912_482ae32b83darow0_col3\" class=\"data row0 col3\" >0.7442</td>\n",
       "                        <td id=\"T_74a2010a_9e31_11eb_a912_482ae32b83darow0_col4\" class=\"data row0 col4\" >0.7111</td>\n",
       "                        <td id=\"T_74a2010a_9e31_11eb_a912_482ae32b83darow0_col5\" class=\"data row0 col5\" >0.5491</td>\n",
       "                        <td id=\"T_74a2010a_9e31_11eb_a912_482ae32b83darow0_col6\" class=\"data row0 col6\" >0.5504</td>\n",
       "            </tr>\n",
       "            <tr>\n",
       "                        <th id=\"T_74a2010a_9e31_11eb_a912_482ae32b83dalevel0_row1\" class=\"row_heading level0 row1\" >1</th>\n",
       "                        <td id=\"T_74a2010a_9e31_11eb_a912_482ae32b83darow1_col0\" class=\"data row1 col0\" >0.8193</td>\n",
       "                        <td id=\"T_74a2010a_9e31_11eb_a912_482ae32b83darow1_col1\" class=\"data row1 col1\" >0.9101</td>\n",
       "                        <td id=\"T_74a2010a_9e31_11eb_a912_482ae32b83darow1_col2\" class=\"data row1 col2\" >0.6882</td>\n",
       "                        <td id=\"T_74a2010a_9e31_11eb_a912_482ae32b83darow1_col3\" class=\"data row1 col3\" >0.8000</td>\n",
       "                        <td id=\"T_74a2010a_9e31_11eb_a912_482ae32b83darow1_col4\" class=\"data row1 col4\" >0.7399</td>\n",
       "                        <td id=\"T_74a2010a_9e31_11eb_a912_482ae32b83darow1_col5\" class=\"data row1 col5\" >0.6026</td>\n",
       "                        <td id=\"T_74a2010a_9e31_11eb_a912_482ae32b83darow1_col6\" class=\"data row1 col6\" >0.6066</td>\n",
       "            </tr>\n",
       "            <tr>\n",
       "                        <th id=\"T_74a2010a_9e31_11eb_a912_482ae32b83dalevel0_row2\" class=\"row_heading level0 row2\" >2</th>\n",
       "                        <td id=\"T_74a2010a_9e31_11eb_a912_482ae32b83darow2_col0\" class=\"data row2 col0\" >0.8434</td>\n",
       "                        <td id=\"T_74a2010a_9e31_11eb_a912_482ae32b83darow2_col1\" class=\"data row2 col1\" >0.9240</td>\n",
       "                        <td id=\"T_74a2010a_9e31_11eb_a912_482ae32b83darow2_col2\" class=\"data row2 col2\" >0.8817</td>\n",
       "                        <td id=\"T_74a2010a_9e31_11eb_a912_482ae32b83darow2_col3\" class=\"data row2 col3\" >0.7455</td>\n",
       "                        <td id=\"T_74a2010a_9e31_11eb_a912_482ae32b83darow2_col4\" class=\"data row2 col4\" >0.8079</td>\n",
       "                        <td id=\"T_74a2010a_9e31_11eb_a912_482ae32b83darow2_col5\" class=\"data row2 col5\" >0.6772</td>\n",
       "                        <td id=\"T_74a2010a_9e31_11eb_a912_482ae32b83darow2_col6\" class=\"data row2 col6\" >0.6840</td>\n",
       "            </tr>\n",
       "            <tr>\n",
       "                        <th id=\"T_74a2010a_9e31_11eb_a912_482ae32b83dalevel0_row3\" class=\"row_heading level0 row3\" >Mean</th>\n",
       "                        <td id=\"T_74a2010a_9e31_11eb_a912_482ae32b83darow3_col0\" class=\"data row3 col0\" >0.8182</td>\n",
       "                        <td id=\"T_74a2010a_9e31_11eb_a912_482ae32b83darow3_col1\" class=\"data row3 col1\" >0.9029</td>\n",
       "                        <td id=\"T_74a2010a_9e31_11eb_a912_482ae32b83darow3_col2\" class=\"data row3 col2\" >0.7502</td>\n",
       "                        <td id=\"T_74a2010a_9e31_11eb_a912_482ae32b83darow3_col3\" class=\"data row3 col3\" >0.7632</td>\n",
       "                        <td id=\"T_74a2010a_9e31_11eb_a912_482ae32b83darow3_col4\" class=\"data row3 col4\" >0.7530</td>\n",
       "                        <td id=\"T_74a2010a_9e31_11eb_a912_482ae32b83darow3_col5\" class=\"data row3 col5\" >0.6097</td>\n",
       "                        <td id=\"T_74a2010a_9e31_11eb_a912_482ae32b83darow3_col6\" class=\"data row3 col6\" >0.6137</td>\n",
       "            </tr>\n",
       "            <tr>\n",
       "                        <th id=\"T_74a2010a_9e31_11eb_a912_482ae32b83dalevel0_row4\" class=\"row_heading level0 row4\" >SD</th>\n",
       "                        <td id=\"T_74a2010a_9e31_11eb_a912_482ae32b83darow4_col0\" class=\"data row4 col0\" >0.0210</td>\n",
       "                        <td id=\"T_74a2010a_9e31_11eb_a912_482ae32b83darow4_col1\" class=\"data row4 col1\" >0.0208</td>\n",
       "                        <td id=\"T_74a2010a_9e31_11eb_a912_482ae32b83darow4_col2\" class=\"data row4 col2\" >0.0930</td>\n",
       "                        <td id=\"T_74a2010a_9e31_11eb_a912_482ae32b83darow4_col3\" class=\"data row4 col3\" >0.0260</td>\n",
       "                        <td id=\"T_74a2010a_9e31_11eb_a912_482ae32b83darow4_col4\" class=\"data row4 col4\" >0.0406</td>\n",
       "                        <td id=\"T_74a2010a_9e31_11eb_a912_482ae32b83darow4_col5\" class=\"data row4 col5\" >0.0525</td>\n",
       "                        <td id=\"T_74a2010a_9e31_11eb_a912_482ae32b83darow4_col6\" class=\"data row4 col6\" >0.0548</td>\n",
       "            </tr>\n",
       "    </tbody></table>"
      ],
      "text/plain": [
       "<pandas.io.formats.style.Styler at 0x24bfe089c08>"
      ]
     },
     "metadata": {},
     "output_type": "display_data"
    }
   ],
   "source": [
    "xgboost = create_model('xgboost')"
   ]
  },
  {
   "cell_type": "code",
   "execution_count": 7,
   "metadata": {},
   "outputs": [
    {
     "name": "stdout",
     "output_type": "stream",
     "text": [
      "Model Succesfully Deployed on AWS S3\n"
     ]
    }
   ],
   "source": [
    "deploy_model(xgboost, 'dsc123', platform = 'aws', authentication = {'bucket' : 'pycaret-test'})"
   ]
  },
  {
   "cell_type": "code",
   "execution_count": null,
   "metadata": {},
   "outputs": [],
   "source": []
  },
  {
   "cell_type": "code",
   "execution_count": null,
   "metadata": {},
   "outputs": [],
   "source": []
  },
  {
   "cell_type": "code",
   "execution_count": null,
   "metadata": {},
   "outputs": [],
   "source": []
  },
  {
   "cell_type": "code",
   "execution_count": null,
   "metadata": {},
   "outputs": [],
   "source": [
    "# add_metric()"
   ]
  },
  {
   "cell_type": "code",
   "execution_count": null,
   "metadata": {},
   "outputs": [],
   "source": [
    "%%time\n",
    "best = compare_models()"
   ]
  },
  {
   "cell_type": "code",
   "execution_count": null,
   "metadata": {},
   "outputs": [],
   "source": [
    "from sklearn.linear_model import LogisticRegression"
   ]
  },
  {
   "cell_type": "code",
   "execution_count": null,
   "metadata": {},
   "outputs": [],
   "source": [
    "asd = LogisticRegression()"
   ]
  },
  {
   "cell_type": "code",
   "execution_count": null,
   "metadata": {},
   "outputs": [],
   "source": [
    "create_model(asd)"
   ]
  },
  {
   "cell_type": "code",
   "execution_count": null,
   "metadata": {},
   "outputs": [],
   "source": []
  },
  {
   "cell_type": "code",
   "execution_count": null,
   "metadata": {},
   "outputs": [],
   "source": [
    "lr = create_model('lr')"
   ]
  },
  {
   "cell_type": "code",
   "execution_count": null,
   "metadata": {},
   "outputs": [],
   "source": [
    "tuned_lr = tune_model(lr)"
   ]
  },
  {
   "cell_type": "code",
   "execution_count": null,
   "metadata": {},
   "outputs": [],
   "source": [
    "tuned_lr = tune_model(lr, search_library = 'optuna')"
   ]
  },
  {
   "cell_type": "code",
   "execution_count": null,
   "metadata": {},
   "outputs": [],
   "source": [
    "tuned_lr = tune_model(lr, search_library = 'scikit-optimize')"
   ]
  },
  {
   "cell_type": "code",
   "execution_count": null,
   "metadata": {},
   "outputs": [],
   "source": [
    "dt = create_model('dt')"
   ]
  },
  {
   "cell_type": "code",
   "execution_count": null,
   "metadata": {},
   "outputs": [],
   "source": [
    "dt"
   ]
  },
  {
   "cell_type": "code",
   "execution_count": null,
   "metadata": {},
   "outputs": [],
   "source": [
    "bagged_dt = ensemble_model(dt, method = 'Boosting')"
   ]
  },
  {
   "cell_type": "code",
   "execution_count": null,
   "metadata": {},
   "outputs": [],
   "source": [
    "bagged_dt"
   ]
  },
  {
   "cell_type": "code",
   "execution_count": null,
   "metadata": {},
   "outputs": [],
   "source": [
    "plot_model(lr, plot = 'feature')"
   ]
  },
  {
   "cell_type": "code",
   "execution_count": null,
   "metadata": {},
   "outputs": [],
   "source": [
    "evaluate_model(lr)"
   ]
  },
  {
   "cell_type": "code",
   "execution_count": null,
   "metadata": {},
   "outputs": [],
   "source": [
    "dt = create_model('dt')\n",
    "plot_model(dt, plot = 'boundary')"
   ]
  },
  {
   "cell_type": "code",
   "execution_count": null,
   "metadata": {},
   "outputs": [],
   "source": [
    "xgboost = create_model('xgboost')"
   ]
  },
  {
   "cell_type": "code",
   "execution_count": null,
   "metadata": {},
   "outputs": [],
   "source": [
    "interpret_model(xgboost)"
   ]
  },
  {
   "cell_type": "code",
   "execution_count": null,
   "metadata": {},
   "outputs": [],
   "source": [
    "save_model(xgboost, model_name = 'abc')"
   ]
  },
  {
   "cell_type": "code",
   "execution_count": null,
   "metadata": {},
   "outputs": [],
   "source": [
    "!mlflow ui"
   ]
  },
  {
   "cell_type": "code",
   "execution_count": null,
   "metadata": {},
   "outputs": [],
   "source": []
  },
  {
   "cell_type": "code",
   "execution_count": null,
   "metadata": {},
   "outputs": [],
   "source": []
  }
 ],
 "metadata": {
  "kernelspec": {
   "display_name": "Python 3",
   "language": "python",
   "name": "python3"
  },
  "language_info": {
   "codemirror_mode": {
    "name": "ipython",
    "version": 3
   },
   "file_extension": ".py",
   "mimetype": "text/x-python",
   "name": "python",
   "nbconvert_exporter": "python",
   "pygments_lexer": "ipython3",
   "version": "3.7.4"
  }
 },
 "nbformat": 4,
 "nbformat_minor": 2
}
